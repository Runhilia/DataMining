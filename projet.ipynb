{
 "cells": [
  {
   "cell_type": "code",
   "execution_count": 10,
   "metadata": {},
   "outputs": [],
   "source": [
    "from matplotlib import pyplot as plt\n",
    "import pandas as pd"
   ]
  },
  {
   "cell_type": "code",
   "execution_count": 28,
   "metadata": {},
   "outputs": [
    {
     "name": "stdout",
     "output_type": "stream",
     "text": [
      "        ID Marital Status  Gender    Income  Children        Education  \\\n",
      "0    12496        Married  Female   40000.0       1.0        Bachelors   \n",
      "1    24107        Married    Male   30000.0       3.0  Partial College   \n",
      "2    14177        Married    Male   80000.0       5.0  Partial College   \n",
      "3    24381         Single     NaN   70000.0       0.0        Bachelors   \n",
      "4    25597         Single    Male   30000.0       0.0        Bachelors   \n",
      "..     ...            ...     ...       ...       ...              ...   \n",
      "995  23731        Married    Male   60000.0       2.0      High School   \n",
      "996  28672         Single    Male   70000.0       4.0  Graduate Degree   \n",
      "997  11809        Married     NaN   60000.0       2.0        Bachelors   \n",
      "998  19664         Single    Male  100000.0       3.0        Bachelors   \n",
      "999  12121         Single    Male   60000.0       3.0      High School   \n",
      "\n",
      "         Occupation Home Owner  Cars Commute Distance         Region   Age  \\\n",
      "0    Skilled Manual        Yes   0.0        0-1 Miles         Europe  42.0   \n",
      "1          Clerical        Yes   1.0        0-1 Miles         Europe  43.0   \n",
      "2      Professional         No   2.0        2-5 Miles         Europe  60.0   \n",
      "3      Professional        Yes   1.0       5-10 Miles        Pacific  41.0   \n",
      "4          Clerical         No   0.0        0-1 Miles         Europe  36.0   \n",
      "..              ...        ...   ...              ...            ...   ...   \n",
      "995    Professional        Yes   2.0        2-5 Miles  North America  54.0   \n",
      "996    Professional        Yes   0.0        2-5 Miles  North America  35.0   \n",
      "997  Skilled Manual        Yes   0.0        0-1 Miles  North America  38.0   \n",
      "998      Management         No   3.0        1-2 Miles  North America  38.0   \n",
      "999    Professional        Yes   2.0        10+ Miles  North America  53.0   \n",
      "\n",
      "    Purchased Bike  \n",
      "0               No  \n",
      "1               No  \n",
      "2               No  \n",
      "3              Yes  \n",
      "4              Yes  \n",
      "..             ...  \n",
      "995            Yes  \n",
      "996            Yes  \n",
      "997            Yes  \n",
      "998             No  \n",
      "999            Yes  \n",
      "\n",
      "[1000 rows x 13 columns]\n"
     ]
    }
   ],
   "source": [
    "import pandas\n",
    "df = pd.read_csv('bike_buyers.csv')\n",
    "print(df)"
   ]
  }
 ],
 "metadata": {
  "kernelspec": {
   "display_name": "Apprentissage_TP1",
   "language": "python",
   "name": "python3"
  },
  "language_info": {
   "codemirror_mode": {
    "name": "ipython",
    "version": 3
   },
   "file_extension": ".py",
   "mimetype": "text/x-python",
   "name": "python",
   "nbconvert_exporter": "python",
   "pygments_lexer": "ipython3",
   "version": "3.10.13"
  }
 },
 "nbformat": 4,
 "nbformat_minor": 2
}

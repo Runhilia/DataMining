{
 "cells": [
  {
   "cell_type": "code",
   "execution_count": null,
   "metadata": {},
   "outputs": [],
   "source": [
    "# Import\n",
    "import pandas as pd\n",
    "import numpy as np\n",
    "import matplotlib.pyplot as plt\n",
    "import plotly.express as px\n",
    "import seaborn as sns"
   ]
  },
  {
   "cell_type": "code",
   "execution_count": null,
   "metadata": {},
   "outputs": [],
   "source": [
    "# Chargement des données \n",
    "df = pd.read_csv('gapminder_data_graphs.csv')\n",
    "df.info()"
   ]
  },
  {
   "cell_type": "markdown",
   "metadata": {},
   "source": [
    "On voit qu'on a 3 colonnes nous permettant de classer les données (pays, continent, année) ainsi que 5 colonnes contenant des valeurs numériques (espérance de vie, Indice de Développement Humain, consommation de CO2, Produit Intérieur Brut et pourcentage de travailleurs dans le secteur tertiaire). "
   ]
  },
  {
   "cell_type": "markdown",
   "metadata": {},
   "source": [
    "# Data Cleaning"
   ]
  },
  {
   "cell_type": "code",
   "execution_count": null,
   "metadata": {},
   "outputs": [],
   "source": [
    "# On regarde les valeurs manquantes\n",
    "plt.figure(figsize = (8,6))\n",
    "sns.heatmap(df.isnull(), cbar=False , cmap = 'magma')\n",
    "\n",
    "df.isnull().sum()"
   ]
  },
  {
   "cell_type": "code",
   "execution_count": null,
   "metadata": {},
   "outputs": [],
   "source": [
    "# Affichage des villes et années avec valeurs d'IDH manquantes\n",
    "df[df['hdi_index'].isna()][['country', 'year']]"
   ]
  },
  {
   "cell_type": "markdown",
   "metadata": {},
   "source": [
    "Il est cohérent que plusieurs valeurs pour l'indice de développement humain soient manquantes dans le cas de certains pays car il n'était probablement possible de les calculer à l'époque."
   ]
  },
  {
   "cell_type": "code",
   "execution_count": null,
   "metadata": {},
   "outputs": [],
   "source": [
    "# Affichage des villes et années avec les valeurs de PIB manquantes\n",
    "df[df['gdp'].isna()][['country', 'year']]"
   ]
  },
  {
   "cell_type": "markdown",
   "metadata": {},
   "source": [
    "Dans le même cas que précédemment, ces pays manquent de données pour le Produit Brut Intérieur car les données n'étaient probablement pas disponibles à l'époque."
   ]
  },
  {
   "cell_type": "code",
   "execution_count": null,
   "metadata": {},
   "outputs": [],
   "source": [
    "# Affichage des villes et années avec les valeurs de consommation de CO2 manquantes\n",
    "df[df['co2_consump'].isna()][['country', 'year']]"
   ]
  },
  {
   "cell_type": "markdown",
   "metadata": {},
   "source": [
    "Avant 2002, le Timor oriental était une province de l'Indonésie. Nous n'avons donc pas de données pour cette période."
   ]
  },
  {
   "cell_type": "code",
   "execution_count": null,
   "metadata": {},
   "outputs": [],
   "source": [
    "# Suppression des lignes avec des valeurs manquantes\n",
    "df.dropna(inplace = True)\n",
    "\n",
    "# Vérification\n",
    "df.isnull().sum()"
   ]
  },
  {
   "cell_type": "code",
   "execution_count": null,
   "metadata": {},
   "outputs": [],
   "source": [
    "# On regarde si on a des données dupliquées\n",
    "print(\"Nombre de données dupliquées : \" , df.duplicated().sum())\n",
    "df.info()"
   ]
  },
  {
   "cell_type": "markdown",
   "metadata": {},
   "source": [
    "# Analyse des données"
   ]
  },
  {
   "cell_type": "markdown",
   "metadata": {},
   "source": [
    "## Analyse descriptive ( moyenne, médiane, écart-type, histogrammes, boxplots, graphiques de lignes)"
   ]
  },
  {
   "cell_type": "code",
   "execution_count": null,
   "metadata": {},
   "outputs": [],
   "source": [
    "# Moyenne des données par pays\n",
    "df_without_year = df.drop('year', axis = 1)\n",
    "df_mean = df_without_year.groupby('country').mean(numeric_only=True)\n",
    "df_mean"
   ]
  },
  {
   "cell_type": "code",
   "execution_count": null,
   "metadata": {},
   "outputs": [],
   "source": [
    "# moyenne la plus élevée pour chaque colonne\n",
    "print(\"Pays avec les moyennes les plus haute :\\n\", df_mean.idxmax())\n",
    "print(\"Pays avec les moyenne minimum :\\n\",df_mean.idxmin())"
   ]
  },
  {
   "cell_type": "code",
   "execution_count": null,
   "metadata": {},
   "outputs": [],
   "source": [
    "# Médianne des données par pays\n",
    "df_median = df_without_year.groupby('country').median(numeric_only=True)\n",
    "print(df_median)\n"
   ]
  },
  {
   "cell_type": "code",
   "execution_count": null,
   "metadata": {},
   "outputs": [],
   "source": [
    "# histogramme comparaison des varibles par continent\n",
    "df_mean = df.groupby(['country', 'continent']).mean(numeric_only=True)\n",
    "fig, ax = plt.subplots(5, 1, figsize = (10, 20))\n",
    "\n",
    "sns.histplot(data = df_mean, x = 'life_exp', hue = 'continent', ax = ax[0], kde = True)\n",
    "sns.histplot(data = df_mean, x = 'hdi_index', hue = 'continent', ax = ax[1], kde = True)\n",
    "sns.histplot(data = df_mean, x = 'co2_consump', hue = 'continent', ax = ax[2], kde = True)\n",
    "sns.histplot(data = df_mean, x = 'gdp', hue = 'continent', ax = ax[3], kde = True)\n",
    "sns.histplot(data = df_mean, x = 'services', hue = 'continent', ax = ax[4], kde = True) \n",
    "plt.show()"
   ]
  },
  {
   "cell_type": "code",
   "execution_count": null,
   "metadata": {},
   "outputs": [],
   "source": [
    "# boxplot comparaison des varibles par continent\n",
    "df_mean = df.groupby(['country', 'continent']).mean(numeric_only=True).reset_index()\n",
    "\n",
    "fig, ax = plt.subplots(5, 1, figsize = (10, 20))\n",
    "sns.boxplot(data = df_mean, x = 'services', y = 'continent', ax = ax[0])\n",
    "sns.boxplot(data = df_mean, x = 'life_exp', y = 'continent', ax = ax[1])\n",
    "sns.boxplot(data = df_mean, x = 'hdi_index', y = 'continent', ax = ax[2])\n",
    "sns.boxplot(data = df_mean, x = 'gdp', y = 'continent', ax = ax[3])\n",
    "sns.boxplot(data = df_mean, x = 'co2_consump', y = 'continent', ax = ax[4])\n",
    "plt.show()"
   ]
  },
  {
   "cell_type": "code",
   "execution_count": null,
   "metadata": {},
   "outputs": [],
   "source": [
    "# graphique en barre de la consommation de CO2 par continent\n",
    "df_mean = df.groupby(['country', 'continent']).mean(numeric_only=True).reset_index()\n",
    "\n",
    "fig = px.bar(df_mean, x = 'continent', y = 'co2_consump', color = 'country', title = 'Consommation de CO2 par continent')\n",
    "fig.show()"
   ]
  },
  {
   "cell_type": "code",
   "execution_count": null,
   "metadata": {},
   "outputs": [],
   "source": [
    "fig = px.bar(df_mean, x = 'continent', y = 'life_exp', color = 'country')\n",
    "\n",
    "fig.show()"
   ]
  },
  {
   "cell_type": "code",
   "execution_count": null,
   "metadata": {},
   "outputs": [],
   "source": [
    "fig = px.bar(df_mean, x = 'continent', y = 'services', color = 'country')\n",
    "fig.show()"
   ]
  },
  {
   "cell_type": "code",
   "execution_count": null,
   "metadata": {},
   "outputs": [],
   "source": [
    "fig = px.bar(df_mean, x = 'continent', y = 'hdi_index', color = 'country')\n",
    "fig.show()"
   ]
  },
  {
   "cell_type": "code",
   "execution_count": null,
   "metadata": {},
   "outputs": [],
   "source": [
    "fig = px.bar(df_mean, x = 'continent', y = 'gdp', color = 'country')\n",
    "fig.show()"
   ]
  },
  {
   "cell_type": "markdown",
   "metadata": {},
   "source": [
    "## Corrélation entre les colonnes"
   ]
  },
  {
   "cell_type": "markdown",
   "metadata": {},
   "source": [
    "On va regarder quelles sont les colonnes qui sont corrélées entre elles pour voir si on peut en déduire quelque chose."
   ]
  },
  {
   "cell_type": "code",
   "execution_count": null,
   "metadata": {},
   "outputs": [],
   "source": [
    "# On regarde les colonnes corrélées et on affiche dans une heatmap\n",
    "df_num = df.select_dtypes(include = ['float64'])\n",
    "correlation = df_num.corr()\n",
    "plt.figure(figsize = (8,6))\n",
    "sns.heatmap(correlation, annot = True, cmap = 'coolwarm')"
   ]
  },
  {
   "cell_type": "markdown",
   "metadata": {},
   "source": [
    "On remarque que les valeurs des colonnes sont plutôt liées mais on voit notamment une forte corrélation entre l'IDH et l'espérance de vie ce qui est logique car l'IDH est calculé en prenant en compte l'espérance de vie. On observe également une corrélation importante entre l'IDH et le pourcentage de travailleurs dans le secteur tertiaire qui peut s'expliquer par le fait que les pays avec un IDH élevé ont souvent une économie tertiaire développée comme avec le tourisme par exemple."
   ]
  },
  {
   "cell_type": "code",
   "execution_count": null,
   "metadata": {},
   "outputs": [],
   "source": [
    "# Affichage des relations entre les colonnes\n",
    "liste_colonnes = [\"continent\", \"life_exp\", \"hdi_index\", \"co2_consump\", \"gdp\", \"services\"]\n",
    "sns.pairplot(data=df.loc[:, liste_colonnes], hue=\"continent\")"
   ]
  },
  {
   "cell_type": "markdown",
   "metadata": {},
   "source": [
    "Ces différents graphiques illustrent bien les corrélations plus ou moins fortes entre les différentes colonnes. Les graphiques avec des points désordonnés et dispersés montrent une faible corrélation entre les colonnes tandis que les graphiques avec des points qui suivent approximativement une droite montrent une corrélation plus forte."
   ]
  },
  {
   "cell_type": "markdown",
   "metadata": {},
   "source": [
    "On peut aussi essayer de regarder la corrélation entre les variables numériques et les différents continents pour voir si on peut en déduire quelque chose."
   ]
  },
  {
   "cell_type": "code",
   "execution_count": null,
   "metadata": {},
   "outputs": [],
   "source": [
    "# On ajoute une variable pour chaque continent avec un booléen pour savoir si le pays est dans ce continent\n",
    "df_variables_continents = pd.get_dummies(df, columns = ['continent'])\n",
    "df_variables_continents = df_variables_continents.select_dtypes(include = ['float64', 'bool'])\n",
    "# Corrélation entre les variables\n",
    "correlation = df_variables_continents.corr()\n",
    "plt.figure(figsize = (8,6))\n",
    "sns.heatmap(correlation, annot = True, cmap = 'coolwarm')"
   ]
  },
  {
   "cell_type": "markdown",
   "metadata": {},
   "source": [
    "On peut s'apercevoir ici que les coefficients de corrélation entre nos variables et les continents sont très différents selon les continents. Ceux-ci sont vont de 0.23 à 0.53 pour l'Europe tandis qu'ils sont situés entre -0.69 et -0.35 pour l'Afrique. Il est possible d'expliquer cela par le fait que l'Europe est un continent développé et possède donc des valeurs élevées pour l'IDH, le PIB ou l'espérance de vie alors que l'Afrique est un continent en développement et possède donc des valeurs plus faibles pour ces mêmes variables."
   ]
  },
  {
   "cell_type": "markdown",
   "metadata": {},
   "source": [
    "## Clustering"
   ]
  },
  {
   "cell_type": "markdown",
   "metadata": {},
   "source": [
    "## Transformation de données"
   ]
  },
  {
   "cell_type": "markdown",
   "metadata": {},
   "source": [
    "## Analyse temporelles et spatiales"
   ]
  },
  {
   "cell_type": "code",
   "execution_count": null,
   "metadata": {},
   "outputs": [],
   "source": [
    "# Création d'un graphique qui montre l'évolution de l'IDH et du % de services en fonction de l'année\n",
    "df_complet = pd.read_csv('gapminder_data_graphs.csv')\n",
    "graphique = px.scatter(df_complet, x = \"hdi_index\",  y = \"services\", color = \"continent\", animation_frame=\"year\", range_x=[0,1], range_y= [0, 100])\n",
    "graphique.show()"
   ]
  },
  {
   "cell_type": "code",
   "execution_count": null,
   "metadata": {},
   "outputs": [],
   "source": [
    "graphique = px.scatter(df_complet, x = \"hdi_index\",  y = \"life_exp\", color = \"continent\", animation_frame=\"year\", range_x=[0,1], range_y= [0, 100])\n",
    "graphique.show()"
   ]
  },
  {
   "cell_type": "code",
   "execution_count": null,
   "metadata": {},
   "outputs": [],
   "source": [
    "\n",
    "# Moyennes par année et continent\n",
    "data_temporel = df.groupby(['year', 'continent']).mean(numeric_only=True).reset_index()\n",
    "fig, ax = plt.subplots(5, 1, figsize=(12, 20))\n",
    "sns.lineplot(data=data_temporel, x='year', y='life_exp', hue='continent', ax= ax[0], marker='o')\n",
    "sns.lineplot(data=data_temporel, x='year', y='hdi_index', hue='continent', ax= ax[1], marker='o')\n",
    "sns.lineplot(data=data_temporel, x='year', y='co2_consump', hue='continent', ax= ax[2], marker='o')\n",
    "sns.lineplot(data=data_temporel, x='year', y='gdp', hue='continent', ax= ax[3], marker='o')\n",
    "sns.lineplot(data=data_temporel, x='year', y='services', hue='continent', ax= ax[4], marker='o')"
   ]
  },
  {
   "cell_type": "markdown",
   "metadata": {},
   "source": [
    "## Détection d'anomalies"
   ]
  },
  {
   "cell_type": "code",
   "execution_count": null,
   "metadata": {},
   "outputs": [],
   "source": [
    "window_size = 4  # Taille de la fenêtre pour la moyenne mobile\n",
    "deviation_threshold = 2  # Seuil pour la déviation\n",
    "\n",
    "# Fonction pour calculer la moyenne mobile et détecter les anomalies\n",
    "def detect_anomalies(group):\n",
    "    group['moving_avg'] = group['life_exp'].rolling(window=window_size, center=True).mean()\n",
    "    group['deviation'] = group['life_exp'] - group['moving_avg']\n",
    "    group['anomaly'] = (abs(group['deviation']) > deviation_threshold)\n",
    "    return group\n",
    "\n",
    "# Appliquer la fonction à chaque pays\n",
    "data = df.groupby('country').apply(detect_anomalies)\n",
    "\n",
    "anomalies = data[data['anomaly']]\n",
    "print(\"Anomalies détectées :\")\n",
    "anomalies[['country', 'year', 'life_exp', 'moving_avg', 'deviation']]\n"
   ]
  },
  {
   "cell_type": "code",
   "execution_count": null,
   "metadata": {},
   "outputs": [],
   "source": [
    "window_size = 4  # Taille de la fenêtre pour la moyenne mobile\n",
    "deviation_threshold = 3  # Seuil pour la déviation\n",
    "\n",
    "# Fonction pour calculer la moyenne mobile et détecter les anomalies\n",
    "def detect_anomalies(group):\n",
    "    group['moving_avg'] = group['co2_consump'].rolling(window=window_size, center=True).mean()\n",
    "    group['deviation'] = group['co2_consump'] - group['moving_avg']\n",
    "    group['anomaly'] =  (abs(group['deviation']) > deviation_threshold)\n",
    "    \n",
    "    return group\n",
    "\n",
    "# Appliquer la fonction à chaque pays\n",
    "data = df.groupby('country').apply(detect_anomalies)\n",
    "\n",
    "anomalies = data[data['anomaly']]\n",
    "print(\"Anomalies détectées :\")\n",
    "anomalies[['country', 'year', 'co2_consump', 'moving_avg', 'deviation']]"
   ]
  },
  {
   "cell_type": "code",
   "execution_count": null,
   "metadata": {},
   "outputs": [],
   "source": [
    "window_size = 4  # Taille de la fenêtre pour la moyenne mobile\n",
    "deviation_threshold = 2000  # Seuil pour la déviation\n",
    "\n",
    "# Fonction pour calculer la moyenne mobile et détecter les anomalies\n",
    "def detect_anomalies(group):\n",
    "    group['moving_avg'] = group['gdp'].rolling(window=window_size, center=True).mean()\n",
    "    group['deviation'] = group['gdp'] - group['moving_avg']\n",
    "    group['anomaly'] =  (abs(group['deviation']) > deviation_threshold)\n",
    "    \n",
    "    return group\n",
    "\n",
    "# Appliquer la fonction à chaque pays\n",
    "data = df.groupby('country').apply(detect_anomalies)\n",
    "\n",
    "anomalies = data[data['anomaly']]\n",
    "print(\"Anomalies détectées :\")\n",
    "anomalies[['country', 'year', 'gdp', 'moving_avg', 'deviation']]"
   ]
  },
  {
   "cell_type": "code",
   "execution_count": null,
   "metadata": {},
   "outputs": [],
   "source": [
    "window_size = 4  # Taille de la fenêtre pour la moyenne mobile\n",
    "deviation_threshold = 2  # Seuil pour la déviation\n",
    "\n",
    "# Fonction pour calculer la moyenne mobile et détecter les anomalies\n",
    "def detect_anomalies(group):\n",
    "    group['moving_avg'] = group['services'].rolling(window=window_size, center=True).mean()\n",
    "    group['deviation'] = group['services'] - group['moving_avg']\n",
    "    group['anomaly'] =  (abs(group['deviation']) > deviation_threshold)\n",
    "    \n",
    "    return group\n",
    "\n",
    "# Appliquer la fonction à chaque pays\n",
    "data = df.groupby('country').apply(detect_anomalies)\n",
    "\n",
    "anomalies = data[data['anomaly']]\n",
    "print(\"Anomalies détectées :\")\n",
    "anomalies[['country', 'year', 'services', 'moving_avg', 'deviation']]"
   ]
  }
 ],
 "metadata": {
  "kernelspec": {
   "display_name": "Python 3",
   "language": "python",
   "name": "python3"
  },
  "language_info": {
   "codemirror_mode": {
    "name": "ipython",
    "version": 3
   },
   "file_extension": ".py",
   "mimetype": "text/x-python",
   "name": "python",
   "nbconvert_exporter": "python",
   "pygments_lexer": "ipython3",
   "version": "3.13.0"
  }
 },
 "nbformat": 4,
 "nbformat_minor": 2
}
